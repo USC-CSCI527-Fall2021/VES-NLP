{
 "cells": [
  {
   "cell_type": "code",
   "execution_count": 1,
   "id": "63e8ffa1",
   "metadata": {},
   "outputs": [
    {
     "ename": "SyntaxError",
     "evalue": "invalid syntax (2955108778.py, line 1)",
     "output_type": "error",
     "traceback": [
      "\u001b[0;36m  File \u001b[0;32m\"/var/folders/z2/1f0wb8p52xdds561vxp032600000gn/T/ipykernel_39180/2955108778.py\"\u001b[0;36m, line \u001b[0;32m1\u001b[0m\n\u001b[0;31m    cosine_distance  {'-41504-SHD_CounterDrawer': 1.5520040035247216, '-41474-SHD_Freezer': 1.6322019772214098, '-41430-SHD_Toaster': 1.5965285248994556, '-41366-SHD_Camera': 1.6023591055080404, '-41332-SHD_ExtractorFan': 1.5297198779667132, '-41316-SHD_RubbishBin': 1.6553712526489495, '-41296-SHD_CoffeeMachine': 1.6134686515456589, '-41268-SHD_CounterSink': 1.533242560333124, '-41230-SHD_DishWasher': 1.5909073045802924, '-41208-SHD_Lightswitch': 1.6315880296893814, '-41122-SHD_Cabinet': 1.5194877827351192, '-41090-SHD_Boombox': 1.5705775871576861, '-41062-SHD_Light': 1.6299204948602135, '-41032-SHD_Microwave': 1.529860248227453, '-7984-SHD_Oven': 1.5082712293955516, '23400-SHD_CounterDrawer': 1.4826980426677965, '23714-SHD_CounterDrawer': 1.5625233552820328, '24294-SHD_Cabinet': 1.611496846140951, '34522-SHD_CounterDrawer': 1.5880486897027715, '36554-SHD_Cabinet': 1.5826143908298975, '37368-SHD_Camera': 1.5339331088623618}\u001b[0m\n\u001b[0m                     ^\u001b[0m\n\u001b[0;31mSyntaxError\u001b[0m\u001b[0;31m:\u001b[0m invalid syntax\n"
     ]
    }
   ],
   "source": [
    "cosine_distance  {'-41504-SHD_CounterDrawer': 1.5520040035247216, '-41474-SHD_Freezer': 1.6322019772214098, '-41430-SHD_Toaster': 1.5965285248994556, '-41366-SHD_Camera': 1.6023591055080404, '-41332-SHD_ExtractorFan': 1.5297198779667132, '-41316-SHD_RubbishBin': 1.6553712526489495, '-41296-SHD_CoffeeMachine': 1.6134686515456589, '-41268-SHD_CounterSink': 1.533242560333124, '-41230-SHD_DishWasher': 1.5909073045802924, '-41208-SHD_Lightswitch': 1.6315880296893814, '-41122-SHD_Cabinet': 1.5194877827351192, '-41090-SHD_Boombox': 1.5705775871576861, '-41062-SHD_Light': 1.6299204948602135, '-41032-SHD_Microwave': 1.529860248227453, '-7984-SHD_Oven': 1.5082712293955516, '23400-SHD_CounterDrawer': 1.4826980426677965, '23714-SHD_CounterDrawer': 1.5625233552820328, '24294-SHD_Cabinet': 1.611496846140951, '34522-SHD_CounterDrawer': 1.5880486897027715, '36554-SHD_Cabinet': 1.5826143908298975, '37368-SHD_Camera': 1.5339331088623618}"
   ]
  },
  {
   "cell_type": "code",
   "execution_count": null,
   "id": "69963a11",
   "metadata": {},
   "outputs": [],
   "source": []
  }
 ],
 "metadata": {
  "kernelspec": {
   "display_name": "Python 3 (ipykernel)",
   "language": "python",
   "name": "python3"
  },
  "language_info": {
   "codemirror_mode": {
    "name": "ipython",
    "version": 3
   },
   "file_extension": ".py",
   "mimetype": "text/x-python",
   "name": "python",
   "nbconvert_exporter": "python",
   "pygments_lexer": "ipython3",
   "version": "3.7.9"
  }
 },
 "nbformat": 4,
 "nbformat_minor": 5
}
